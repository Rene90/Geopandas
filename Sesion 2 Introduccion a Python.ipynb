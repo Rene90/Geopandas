{
 "cells": [
  {
   "cell_type": "markdown",
   "metadata": {},
   "source": [
    "# 1.3 Colecciones\n",
    "list `[]`, tuple`()`, dictionaries`{}`"
   ]
  },
  {
   "cell_type": "code",
   "execution_count": 72,
   "metadata": {},
   "outputs": [],
   "source": [
    "var2='super'"
   ]
  },
  {
   "cell_type": "code",
   "execution_count": 73,
   "metadata": {},
   "outputs": [],
   "source": [
    "lista = [1,2,5,8,'True',var2, False] # Como habiamos visto las listas aceptan ditintos tipos de valores"
   ]
  },
  {
   "cell_type": "code",
   "execution_count": 74,
   "metadata": {},
   "outputs": [
    {
     "data": {
      "text/plain": [
       "'True'"
      ]
     },
     "execution_count": 74,
     "metadata": {},
     "output_type": "execute_result"
    }
   ],
   "source": [
    "lista[4] # Se puede acceder a los elementos mediante el indice o posicion dentro de la liste\n",
    "# Lo cual indica un orden "
   ]
  },
  {
   "cell_type": "code",
   "execution_count": 75,
   "metadata": {},
   "outputs": [
    {
     "data": {
      "text/plain": [
       "[1,\n",
       " 2,\n",
       " 5,\n",
       " 8,\n",
       " 'True',\n",
       " 'super',\n",
       " False,\n",
       " 1,\n",
       " 2,\n",
       " 5,\n",
       " 8,\n",
       " 'True',\n",
       " 'super',\n",
       " False,\n",
       " 1,\n",
       " 2,\n",
       " 5,\n",
       " 8,\n",
       " 'True',\n",
       " 'super',\n",
       " False,\n",
       " 1,\n",
       " 2,\n",
       " 5,\n",
       " 8,\n",
       " 'True',\n",
       " 'super',\n",
       " False]"
      ]
     },
     "execution_count": 75,
     "metadata": {},
     "output_type": "execute_result"
    }
   ],
   "source": [
    "lista*4 # Estan definidas algunas funciones extra"
   ]
  },
  {
   "cell_type": "code",
   "execution_count": 76,
   "metadata": {},
   "outputs": [
    {
     "data": {
      "text/plain": [
       "[1, 2, 5, 8, 'True', 'super', False, 1, 2, 5, 8, 'True', 'super', False]"
      ]
     },
     "execution_count": 76,
     "metadata": {},
     "output_type": "execute_result"
    }
   ],
   "source": [
    "lista+lista"
   ]
  },
  {
   "cell_type": "code",
   "execution_count": 77,
   "metadata": {},
   "outputs": [],
   "source": [
    "#La caracteristica de las listas es que son dinamicas, siempre se puede agregar un nuevo elemento\n",
    "lista.append('otro elemento') # Recuerden que utilizando la tecla <Tab> despues de escribir el punto, \n",
    "               # desplegamos informacion extra"
   ]
  },
  {
   "cell_type": "code",
   "execution_count": 78,
   "metadata": {},
   "outputs": [
    {
     "data": {
      "text/plain": [
       "[1, 2, 5, 8, 'True', 'super', False, 'otro elemento']"
      ]
     },
     "execution_count": 78,
     "metadata": {},
     "output_type": "execute_result"
    }
   ],
   "source": [
    "lista"
   ]
  },
  {
   "cell_type": "code",
   "execution_count": 79,
   "metadata": {},
   "outputs": [],
   "source": [
    "# Como es de esperar podemos meter una lista dentro de otra"
   ]
  },
  {
   "cell_type": "code",
   "execution_count": 80,
   "metadata": {},
   "outputs": [],
   "source": [
    "lista2 = [1.5,2.5,3.5]"
   ]
  },
  {
   "cell_type": "code",
   "execution_count": 81,
   "metadata": {},
   "outputs": [
    {
     "name": "stdout",
     "output_type": "stream",
     "text": [
      "[1, 2, 5, 8, 'True', 'super', False, 'otro elemento', [1.5, 2.5, 3.5]]\n"
     ]
    }
   ],
   "source": [
    "lista.append(lista2)\n",
    "print(lista)"
   ]
  },
  {
   "cell_type": "code",
   "execution_count": 82,
   "metadata": {},
   "outputs": [
    {
     "data": {
      "text/plain": [
       "5"
      ]
     },
     "execution_count": 82,
     "metadata": {},
     "output_type": "execute_result"
    }
   ],
   "source": [
    "lista.index('super') # Podemos buscar un elemento y retornar su indice"
   ]
  },
  {
   "cell_type": "code",
   "execution_count": 83,
   "metadata": {},
   "outputs": [
    {
     "data": {
      "text/plain": [
       "8"
      ]
     },
     "execution_count": 83,
     "metadata": {},
     "output_type": "execute_result"
    }
   ],
   "source": [
    "lista[3]"
   ]
  },
  {
   "cell_type": "code",
   "execution_count": 84,
   "metadata": {},
   "outputs": [],
   "source": [
    "lista[3]='Cambio' # En cualquier momento podemos cambiar el valor de una elemento de la lista"
   ]
  },
  {
   "cell_type": "code",
   "execution_count": 85,
   "metadata": {},
   "outputs": [
    {
     "data": {
      "text/plain": [
       "[1, 2, 5, 'Cambio', 'True', 'super', False, 'otro elemento', [1.5, 2.5, 3.5]]"
      ]
     },
     "execution_count": 85,
     "metadata": {},
     "output_type": "execute_result"
    }
   ],
   "source": [
    "lista"
   ]
  },
  {
   "cell_type": "code",
   "execution_count": 86,
   "metadata": {},
   "outputs": [],
   "source": [
    "cadena = 'Hola mundo'"
   ]
  },
  {
   "cell_type": "code",
   "execution_count": 87,
   "metadata": {},
   "outputs": [
    {
     "data": {
      "text/plain": [
       "'a mund'"
      ]
     },
     "execution_count": 87,
     "metadata": {},
     "output_type": "execute_result"
    }
   ],
   "source": [
    "cadena[3:-1] # Una cadena se puede acceder de forma similar a una lista"
   ]
  },
  {
   "cell_type": "code",
   "execution_count": 88,
   "metadata": {},
   "outputs": [],
   "source": [
    "myTupla = (1,69,'True') # Una tuple es tambien un arreglo ordenado de datos, que es inmutable"
   ]
  },
  {
   "cell_type": "code",
   "execution_count": 89,
   "metadata": {},
   "outputs": [
    {
     "data": {
      "text/plain": [
       "1"
      ]
     },
     "execution_count": 89,
     "metadata": {},
     "output_type": "execute_result"
    }
   ],
   "source": [
    "myTupla[0]"
   ]
  },
  {
   "cell_type": "code",
   "execution_count": 90,
   "metadata": {},
   "outputs": [
    {
     "ename": "TypeError",
     "evalue": "'tuple' object does not support item assignment",
     "output_type": "error",
     "traceback": [
      "\u001b[0;31m---------------------------------------------------------------------------\u001b[0m",
      "\u001b[0;31mTypeError\u001b[0m                                 Traceback (most recent call last)",
      "\u001b[0;32m<ipython-input-90-7d6c9f406a8d>\u001b[0m in \u001b[0;36m<module>\u001b[0;34m()\u001b[0m\n\u001b[0;32m----> 1\u001b[0;31m \u001b[0mmyTupla\u001b[0m\u001b[0;34m[\u001b[0m\u001b[0;36m0\u001b[0m\u001b[0;34m]\u001b[0m \u001b[0;34m=\u001b[0m \u001b[0;36m78.5\u001b[0m \u001b[0;31m# Una vez definida no podemos alterar sus valores\u001b[0m\u001b[0;34m\u001b[0m\u001b[0m\n\u001b[0m",
      "\u001b[0;31mTypeError\u001b[0m: 'tuple' object does not support item assignment"
     ]
    }
   ],
   "source": [
    "myTupla[0] = 78.5 # Una vez definida no podemos alterar sus valores"
   ]
  },
  {
   "cell_type": "code",
   "execution_count": 91,
   "metadata": {},
   "outputs": [
    {
     "data": {
      "text/plain": [
       "(1, 69, 'True', 1, 69, 'True', 1, 69, 'True', 1, 69, 'True', 1, 69, 'True')"
      ]
     },
     "execution_count": 91,
     "metadata": {},
     "output_type": "execute_result"
    }
   ],
   "source": [
    "myTupla*5"
   ]
  },
  {
   "cell_type": "code",
   "execution_count": 92,
   "metadata": {},
   "outputs": [
    {
     "ename": "TypeError",
     "evalue": "unsupported operand type(s) for /: 'tuple' and 'int'",
     "output_type": "error",
     "traceback": [
      "\u001b[0;31m---------------------------------------------------------------------------\u001b[0m",
      "\u001b[0;31mTypeError\u001b[0m                                 Traceback (most recent call last)",
      "\u001b[0;32m<ipython-input-92-8f279bd6d1ce>\u001b[0m in \u001b[0;36m<module>\u001b[0;34m()\u001b[0m\n\u001b[0;32m----> 1\u001b[0;31m \u001b[0mmyTupla\u001b[0m\u001b[0;34m/\u001b[0m\u001b[0;36m2\u001b[0m\u001b[0;34m\u001b[0m\u001b[0m\n\u001b[0m",
      "\u001b[0;31mTypeError\u001b[0m: unsupported operand type(s) for /: 'tuple' and 'int'"
     ]
    }
   ],
   "source": [
    "myTupla/2"
   ]
  },
  {
   "cell_type": "code",
   "execution_count": 93,
   "metadata": {},
   "outputs": [
    {
     "ename": "TypeError",
     "evalue": "can't multiply sequence by non-int of type 'tuple'",
     "output_type": "error",
     "traceback": [
      "\u001b[0;31m---------------------------------------------------------------------------\u001b[0m",
      "\u001b[0;31mTypeError\u001b[0m                                 Traceback (most recent call last)",
      "\u001b[0;32m<ipython-input-93-58b674dc8549>\u001b[0m in \u001b[0;36m<module>\u001b[0;34m()\u001b[0m\n\u001b[0;32m----> 1\u001b[0;31m \u001b[0mmyTupla\u001b[0m\u001b[0;34m*\u001b[0m\u001b[0mmyTupla\u001b[0m\u001b[0;34m\u001b[0m\u001b[0m\n\u001b[0m",
      "\u001b[0;31mTypeError\u001b[0m: can't multiply sequence by non-int of type 'tuple'"
     ]
    }
   ],
   "source": [
    "myTupla*myTupla"
   ]
  },
  {
   "cell_type": "code",
   "execution_count": 94,
   "metadata": {},
   "outputs": [],
   "source": [
    "dict1 = {1:'hola', 'hola':'mundo'} # Los diccionarios nos presentan una alternativa para \n",
    "                                   # relacionar dos valore disitintos, de cualquier tipo"
   ]
  },
  {
   "cell_type": "code",
   "execution_count": 95,
   "metadata": {},
   "outputs": [
    {
     "data": {
      "text/plain": [
       "('hola', 'mundo')"
      ]
     },
     "execution_count": 95,
     "metadata": {},
     "output_type": "execute_result"
    }
   ],
   "source": [
    "dict1[1],dict1['hola'] "
   ]
  },
  {
   "cell_type": "markdown",
   "metadata": {},
   "source": [
    "### Quiz 3: Hagan un pequeño diccionario ingles-español"
   ]
  },
  {
   "cell_type": "code",
   "execution_count": 96,
   "metadata": {},
   "outputs": [],
   "source": [
    "dictESEN = {'hi':'hola', 'world':'mundo', 'tree':'arbol'}"
   ]
  },
  {
   "cell_type": "code",
   "execution_count": 97,
   "metadata": {},
   "outputs": [
    {
     "data": {
      "text/plain": [
       "'hola'"
      ]
     },
     "execution_count": 97,
     "metadata": {},
     "output_type": "execute_result"
    }
   ],
   "source": [
    "dictESEN['hi']"
   ]
  },
  {
   "cell_type": "code",
   "execution_count": 98,
   "metadata": {},
   "outputs": [
    {
     "data": {
      "text/plain": [
       "['mundo', 'hola', 'arbol']"
      ]
     },
     "execution_count": 98,
     "metadata": {},
     "output_type": "execute_result"
    }
   ],
   "source": [
    "dictESEN.values()"
   ]
  },
  {
   "cell_type": "code",
   "execution_count": 99,
   "metadata": {},
   "outputs": [
    {
     "data": {
      "text/plain": [
       "list"
      ]
     },
     "execution_count": 99,
     "metadata": {},
     "output_type": "execute_result"
    }
   ],
   "source": [
    "type(dictESEN.keys())"
   ]
  },
  {
   "cell_type": "markdown",
   "metadata": {},
   "source": [
    "### Quiz 4: Hagan un pequeño diccionario de ciudades y su posicion geográfica (latitud,  logitud)"
   ]
  },
  {
   "cell_type": "code",
   "execution_count": 100,
   "metadata": {},
   "outputs": [],
   "source": [
    "dictCities = {'MEX_curso':(19.324447,-99.179523),'EU':(None,None)}"
   ]
  },
  {
   "cell_type": "code",
   "execution_count": 101,
   "metadata": {},
   "outputs": [
    {
     "data": {
      "text/plain": [
       "(19.324447, -99.179523)"
      ]
     },
     "execution_count": 101,
     "metadata": {},
     "output_type": "execute_result"
    }
   ],
   "source": [
    "dictCities['MEX_curso']"
   ]
  },
  {
   "cell_type": "code",
   "execution_count": 102,
   "metadata": {},
   "outputs": [],
   "source": [
    "dictCities.update({'Boston':(42.3600825,-71.05888010000001)})"
   ]
  },
  {
   "cell_type": "code",
   "execution_count": 103,
   "metadata": {},
   "outputs": [
    {
     "data": {
      "text/plain": [
       "{'Boston': (42.3600825, -71.05888010000001),\n",
       " 'EU': (None, None),\n",
       " 'MEX_curso': (19.324447, -99.179523)}"
      ]
     },
     "execution_count": 103,
     "metadata": {},
     "output_type": "execute_result"
    }
   ],
   "source": [
    "dictCities"
   ]
  },
  {
   "cell_type": "code",
   "execution_count": 104,
   "metadata": {},
   "outputs": [],
   "source": [
    "dictCities.update?"
   ]
  },
  {
   "cell_type": "code",
   "execution_count": 105,
   "metadata": {},
   "outputs": [],
   "source": [
    "# Los diccionarios son dinamicos y se les pueden asignar valores nuevos como:\n",
    "dictCities.update({'Tapachula':(14.9055599,-92.26342060000002)})\n",
    "dictCities['CDMX'] = (19.4326077,-99.13320799999997)"
   ]
  },
  {
   "cell_type": "code",
   "execution_count": 106,
   "metadata": {},
   "outputs": [
    {
     "data": {
      "text/plain": [
       "{'Boston': (42.3600825, -71.05888010000001),\n",
       " 'CDMX': (19.4326077, -99.13320799999997),\n",
       " 'EU': (None, None),\n",
       " 'MEX_curso': (19.324447, -99.179523),\n",
       " 'Tapachula': (14.9055599, -92.26342060000002)}"
      ]
     },
     "execution_count": 106,
     "metadata": {},
     "output_type": "execute_result"
    }
   ],
   "source": [
    "dictCities"
   ]
  },
  {
   "cell_type": "markdown",
   "metadata": {},
   "source": [
    "# 1.4 Funciones"
   ]
  },
  {
   "cell_type": "code",
   "execution_count": 107,
   "metadata": {},
   "outputs": [],
   "source": [
    "def myFunction(xCoord,yCoord): #Distancia de un punto en el plano al origen de coordenadas\n",
    "    distance = (xCoord**2 + yCoord**2)**0.5 # Inicia bloque de la funcion\n",
    "    return distance # Termina bloque de la funcion"
   ]
  },
  {
   "cell_type": "code",
   "execution_count": 108,
   "metadata": {},
   "outputs": [
    {
     "data": {
      "text/plain": [
       "1.4142135623730951"
      ]
     },
     "execution_count": 108,
     "metadata": {},
     "output_type": "execute_result"
    }
   ],
   "source": [
    "myFunction(1,1)"
   ]
  },
  {
   "cell_type": "markdown",
   "metadata": {},
   "source": [
    "### Quiz: Hagan una funcion que calcule un número 'a' exponenciado a 'b': `a**b`"
   ]
  },
  {
   "cell_type": "code",
   "execution_count": 109,
   "metadata": {},
   "outputs": [
    {
     "ename": "SyntaxError",
     "evalue": "invalid syntax (<ipython-input-109-46ba9f3113bf>, line 2)",
     "output_type": "error",
     "traceback": [
      "\u001b[0;36m  File \u001b[0;32m\"<ipython-input-109-46ba9f3113bf>\"\u001b[0;36m, line \u001b[0;32m2\u001b[0m\n\u001b[0;31m    return |a**b\u001b[0m\n\u001b[0m           ^\u001b[0m\n\u001b[0;31mSyntaxError\u001b[0m\u001b[0;31m:\u001b[0m invalid syntax\n"
     ]
    }
   ],
   "source": [
    "def expon(a,b):\n",
    "    return |a**b"
   ]
  },
  {
   "cell_type": "code",
   "execution_count": 110,
   "metadata": {},
   "outputs": [
    {
     "ename": "NameError",
     "evalue": "name 'expon' is not defined",
     "output_type": "error",
     "traceback": [
      "\u001b[0;31m---------------------------------------------------------------------------\u001b[0m",
      "\u001b[0;31mNameError\u001b[0m                                 Traceback (most recent call last)",
      "\u001b[0;32m<ipython-input-110-a0468ed36cc9>\u001b[0m in \u001b[0;36m<module>\u001b[0;34m()\u001b[0m\n\u001b[0;32m----> 1\u001b[0;31m \u001b[0mexpon\u001b[0m\u001b[0;34m(\u001b[0m\u001b[0;36m2\u001b[0m\u001b[0;34m,\u001b[0m\u001b[0;36m2\u001b[0m\u001b[0;34m)\u001b[0m \u001b[0;31m# Recuerden siempre probar su codigo con casos sencillos que conozcan\u001b[0m\u001b[0;34m\u001b[0m\u001b[0m\n\u001b[0m",
      "\u001b[0;31mNameError\u001b[0m: name 'expon' is not defined"
     ]
    }
   ],
   "source": [
    "expon(2,2) # Recuerden siempre probar su codigo con casos sencillos que conozcan"
   ]
  },
  {
   "cell_type": "code",
   "execution_count": 111,
   "metadata": {},
   "outputs": [
    {
     "ename": "NameError",
     "evalue": "name 'expon' is not defined",
     "output_type": "error",
     "traceback": [
      "\u001b[0;31m---------------------------------------------------------------------------\u001b[0m",
      "\u001b[0;31mNameError\u001b[0m                                 Traceback (most recent call last)",
      "\u001b[0;32m<ipython-input-111-cb06513ed8ed>\u001b[0m in \u001b[0;36m<module>\u001b[0;34m()\u001b[0m\n\u001b[0;32m----> 1\u001b[0;31m \u001b[0mexpon\u001b[0m\u001b[0;34m(\u001b[0m\u001b[0;36m200000\u001b[0m\u001b[0;34m,\u001b[0m\u001b[0;36m2\u001b[0m\u001b[0;34m)\u001b[0m\u001b[0;34m\u001b[0m\u001b[0m\n\u001b[0m",
      "\u001b[0;31mNameError\u001b[0m: name 'expon' is not defined"
     ]
    }
   ],
   "source": [
    "expon(200000,2)"
   ]
  },
  {
   "cell_type": "code",
   "execution_count": 112,
   "metadata": {},
   "outputs": [],
   "source": [
    "def expon2(a,b=2): # Posemos pasar argumentos por default\n",
    "    return a**b "
   ]
  },
  {
   "cell_type": "code",
   "execution_count": 113,
   "metadata": {},
   "outputs": [
    {
     "data": {
      "text/plain": [
       "4"
      ]
     },
     "execution_count": 113,
     "metadata": {},
     "output_type": "execute_result"
    }
   ],
   "source": [
    "expon2(2) #en este caso solo se asigna la variable a=2 y para el segundo valor b, se usa su valor por default"
   ]
  },
  {
   "cell_type": "code",
   "execution_count": 114,
   "metadata": {},
   "outputs": [],
   "source": [
    "contPI = 3.1415 # Esto es una variable global"
   ]
  },
  {
   "cell_type": "code",
   "execution_count": 115,
   "metadata": {},
   "outputs": [],
   "source": [
    "def expon3(a,b=2):\n",
    "    contPI = 2         # a y b son variables locales; solo existen dentro de la funcion. No podemos sobreescribir\n",
    "                       # para modificar variables globales\n",
    "    return a**b*contPI # Python puede usar variables globales dentro de las funciones"
   ]
  },
  {
   "cell_type": "code",
   "execution_count": 116,
   "metadata": {},
   "outputs": [
    {
     "data": {
      "text/plain": [
       "3.1415"
      ]
     },
     "execution_count": 116,
     "metadata": {},
     "output_type": "execute_result"
    }
   ],
   "source": [
    "contPI"
   ]
  },
  {
   "cell_type": "code",
   "execution_count": 117,
   "metadata": {},
   "outputs": [],
   "source": [
    "def expon3(a,b=2):\n",
    "    global contPI\n",
    "    contPI = 2         # a y b son variables locales; solo existen dentro de la funcion. No podemos sobreescribir\n",
    "                       # para modificar variables globales\n",
    "    return a**b*contPI # Python puede usar variables globales dentro de las funciones"
   ]
  },
  {
   "cell_type": "code",
   "execution_count": 118,
   "metadata": {},
   "outputs": [
    {
     "data": {
      "text/plain": [
       "3.1415"
      ]
     },
     "execution_count": 118,
     "metadata": {},
     "output_type": "execute_result"
    }
   ],
   "source": [
    "contPI"
   ]
  },
  {
   "cell_type": "code",
   "execution_count": 119,
   "metadata": {},
   "outputs": [
    {
     "data": {
      "text/plain": [
       "8"
      ]
     },
     "execution_count": 119,
     "metadata": {},
     "output_type": "execute_result"
    }
   ],
   "source": [
    "expon3(2)"
   ]
  },
  {
   "cell_type": "code",
   "execution_count": 120,
   "metadata": {},
   "outputs": [
    {
     "data": {
      "text/plain": [
       "2"
      ]
     },
     "execution_count": 120,
     "metadata": {},
     "output_type": "execute_result"
    }
   ],
   "source": [
    "contPI  # Con la funcion `global` podemos modificar una variable global dentro de una funcion \n",
    "        # y que en efecto modifiquemos su valor"
   ]
  },
  {
   "cell_type": "code",
   "execution_count": 121,
   "metadata": {},
   "outputs": [
    {
     "ename": "NameError",
     "evalue": "name 'b' is not defined",
     "output_type": "error",
     "traceback": [
      "\u001b[0;31m---------------------------------------------------------------------------\u001b[0m",
      "\u001b[0;31mNameError\u001b[0m                                 Traceback (most recent call last)",
      "\u001b[0;32m<ipython-input-121-74be27abb06a>\u001b[0m in \u001b[0;36m<module>\u001b[0;34m()\u001b[0m\n\u001b[0;32m----> 1\u001b[0;31m \u001b[0mb\u001b[0m \u001b[0;31m# solo existe dentro de la funcion!\u001b[0m\u001b[0;34m\u001b[0m\u001b[0m\n\u001b[0m",
      "\u001b[0;31mNameError\u001b[0m: name 'b' is not defined"
     ]
    }
   ],
   "source": [
    "b # solo existe dentro de la funcion!"
   ]
  },
  {
   "cell_type": "code",
   "execution_count": 122,
   "metadata": {},
   "outputs": [
    {
     "data": {
      "text/plain": [
       "2048"
      ]
     },
     "execution_count": 122,
     "metadata": {},
     "output_type": "execute_result"
    }
   ],
   "source": [
    "expon3(expon2(2,5)) # Podemos realizar la composicion de funciones"
   ]
  },
  {
   "cell_type": "code",
   "execution_count": 123,
   "metadata": {},
   "outputs": [],
   "source": [
    "expo4 = lambda x,y: x+y # Una segunda forma de definir una funcion es mediante el constructor 'lambda'"
   ]
  },
  {
   "cell_type": "code",
   "execution_count": 124,
   "metadata": {},
   "outputs": [
    {
     "data": {
      "text/plain": [
       "11"
      ]
     },
     "execution_count": 124,
     "metadata": {},
     "output_type": "execute_result"
    }
   ],
   "source": [
    "expo4(5,6)"
   ]
  },
  {
   "cell_type": "markdown",
   "metadata": {},
   "source": [
    "### Quiz2: Hagan una funcion que tome los datos de una lista y retornen su promedio"
   ]
  },
  {
   "cell_type": "markdown",
   "metadata": {},
   "source": [
    "  $$\\bar{a} = \\sum_i^N \\frac{a_i}{N}$$"
   ]
  },
  {
   "cell_type": "code",
   "execution_count": 125,
   "metadata": {},
   "outputs": [],
   "source": [
    "l = [1]*15"
   ]
  },
  {
   "cell_type": "code",
   "execution_count": 126,
   "metadata": {},
   "outputs": [
    {
     "data": {
      "text/plain": [
       "[1, 1, 1, 1, 1, 1, 1, 1, 1, 1, 1, 1, 1, 1, 1]"
      ]
     },
     "execution_count": 126,
     "metadata": {},
     "output_type": "execute_result"
    }
   ],
   "source": [
    "l"
   ]
  },
  {
   "cell_type": "code",
   "execution_count": 127,
   "metadata": {},
   "outputs": [],
   "source": [
    "def mean(lista):\n",
    "    suma = 0\n",
    "    for i in lista:\n",
    "        suma += i # suma = suma + i\n",
    "    return suma/float(len(lista))"
   ]
  },
  {
   "cell_type": "code",
   "execution_count": 128,
   "metadata": {},
   "outputs": [
    {
     "data": {
      "text/plain": [
       "24.5"
      ]
     },
     "execution_count": 128,
     "metadata": {},
     "output_type": "execute_result"
    }
   ],
   "source": [
    "mean(range(50))"
   ]
  },
  {
   "cell_type": "code",
   "execution_count": 129,
   "metadata": {},
   "outputs": [
    {
     "data": {
      "text/plain": [
       "1.0"
      ]
     },
     "execution_count": 129,
     "metadata": {},
     "output_type": "execute_result"
    }
   ],
   "source": [
    "mean(l) # Test simple"
   ]
  },
  {
   "cell_type": "markdown",
   "metadata": {},
   "source": [
    "### **Quiz **: Escriban una funcion que convierta grados Farenheit  $°F$ a Celcius $°C$. Recuerden que $$T_C = (T_F -32) \\times \\left(\\frac{5}{9}\\right)$$"
   ]
  },
  {
   "cell_type": "code",
   "execution_count": 130,
   "metadata": {},
   "outputs": [],
   "source": [
    "celcius = lambda tf: (tf-32.)*(5./9)"
   ]
  },
  {
   "cell_type": "code",
   "execution_count": 131,
   "metadata": {},
   "outputs": [
    {
     "data": {
      "text/plain": [
       "100.0"
      ]
     },
     "execution_count": 131,
     "metadata": {},
     "output_type": "execute_result"
    }
   ],
   "source": [
    "celcius(212.)"
   ]
  },
  {
   "cell_type": "markdown",
   "metadata": {},
   "source": [
    "# 1.6 Objetos"
   ]
  },
  {
   "cell_type": "markdown",
   "metadata": {},
   "source": [
    "Atributos y metodos (funciones)"
   ]
  },
  {
   "cell_type": "code",
   "execution_count": 132,
   "metadata": {},
   "outputs": [],
   "source": [
    "class coordCity(object):\n",
    "    ''' (cityArg, coordArg) This class generete a object for cities data '''\n",
    "    def __init__(self, cityArg, coordArg, \n",
    "                 popu = False, alt = False, surf=False):\n",
    "        self.cityname=cityArg # Estos son lo atributos de la clase\n",
    "        self.cityposition=coordArg\n",
    "        self.population = popu\n",
    "        self.altitud = alt\n",
    "        self.superficie = surf\n",
    "    def densPop(self): # Definiendo funciones dentro de la clase, obtenemos un metodo\n",
    "        if (not self.population) or (not self.superficie):\n",
    "            print('No data')\n",
    "        else:\n",
    "            return float(self.population)/float(self.superficie) "
   ]
  },
  {
   "cell_type": "code",
   "execution_count": 133,
   "metadata": {},
   "outputs": [],
   "source": [
    "coordCity?"
   ]
  },
  {
   "cell_type": "code",
   "execution_count": 134,
   "metadata": {},
   "outputs": [],
   "source": [
    "cdmx = coordCity('CDMX',(19.4326077,-99.13320799999997)) # Un objeto generado por la clase coordCity"
   ]
  },
  {
   "cell_type": "code",
   "execution_count": 135,
   "metadata": {},
   "outputs": [
    {
     "data": {
      "text/plain": [
       "'CDMX'"
      ]
     },
     "execution_count": 135,
     "metadata": {},
     "output_type": "execute_result"
    }
   ],
   "source": [
    "cdmx.cityname # Cada objeto tiene sus atributos (valores)"
   ]
  },
  {
   "cell_type": "code",
   "execution_count": 136,
   "metadata": {},
   "outputs": [
    {
     "data": {
      "text/plain": [
       "__main__.coordCity"
      ]
     },
     "execution_count": 136,
     "metadata": {},
     "output_type": "execute_result"
    }
   ],
   "source": [
    "type(cdmx) # Nos dice que su tipo es coordCity, hemos creado nuestro propio tipo de datos!"
   ]
  },
  {
   "cell_type": "code",
   "execution_count": 137,
   "metadata": {},
   "outputs": [
    {
     "name": "stdout",
     "output_type": "stream",
     "text": [
      "No data\n"
     ]
    }
   ],
   "source": [
    "cdmx.densPop() # Llamamos al metodo, pero al crearlo, no dimos informacion de superficie y poblacion"
   ]
  },
  {
   "cell_type": "code",
   "execution_count": 138,
   "metadata": {},
   "outputs": [],
   "source": [
    "cdmxPop = coordCity('CDMX',(19.4326077,-99.13320799999997),\n",
    "                 popu=8.9e6,surf=1495.)"
   ]
  },
  {
   "cell_type": "code",
   "execution_count": 139,
   "metadata": {},
   "outputs": [
    {
     "data": {
      "text/plain": [
       "5953.177257525083"
      ]
     },
     "execution_count": 139,
     "metadata": {},
     "output_type": "execute_result"
    }
   ],
   "source": [
    "cdmxPop.densPop() # Ahora si pasamos la informacion"
   ]
  },
  {
   "cell_type": "code",
   "execution_count": 140,
   "metadata": {},
   "outputs": [],
   "source": [
    "cdmx.population = 8.9e6 # Podemos modificar los valores del objeto en cualquier momento, por como fueron definidos\n",
    "cdmx.superficie = 1495."
   ]
  },
  {
   "cell_type": "code",
   "execution_count": 141,
   "metadata": {},
   "outputs": [
    {
     "data": {
      "text/plain": [
       "5953.177257525083"
      ]
     },
     "execution_count": 141,
     "metadata": {},
     "output_type": "execute_result"
    }
   ],
   "source": [
    "cdmx.densPop() # Ahora el metodo ya tiene datos para operar"
   ]
  },
  {
   "cell_type": "code",
   "execution_count": 142,
   "metadata": {},
   "outputs": [
    {
     "data": {
      "text/plain": [
       "False"
      ]
     },
     "execution_count": 142,
     "metadata": {},
     "output_type": "execute_result"
    }
   ],
   "source": [
    "#Podemos preguntarnos si dos objetos son del mismo tipo o no, distintas maneras\n",
    "cdmx == cdmxPop"
   ]
  },
  {
   "cell_type": "code",
   "execution_count": 143,
   "metadata": {},
   "outputs": [
    {
     "data": {
      "text/plain": [
       "False"
      ]
     },
     "execution_count": 143,
     "metadata": {},
     "output_type": "execute_result"
    }
   ],
   "source": [
    "cdmx is cdmxPop"
   ]
  },
  {
   "cell_type": "code",
   "execution_count": 144,
   "metadata": {},
   "outputs": [
    {
     "data": {
      "text/plain": [
       "True"
      ]
     },
     "execution_count": 144,
     "metadata": {},
     "output_type": "execute_result"
    }
   ],
   "source": [
    "isinstance(cdmx, coordCity)"
   ]
  },
  {
   "cell_type": "code",
   "execution_count": 145,
   "metadata": {},
   "outputs": [
    {
     "data": {
      "text/plain": [
       "True"
      ]
     },
     "execution_count": 145,
     "metadata": {},
     "output_type": "execute_result"
    }
   ],
   "source": [
    "isinstance(cdmxPop, coordCity)"
   ]
  },
  {
   "cell_type": "code",
   "execution_count": 147,
   "metadata": {},
   "outputs": [
    {
     "name": "stdout",
     "output_type": "stream",
     "text": [
      "Variable     Type         Data/Info\n",
      "-----------------------------------\n",
      "age          int          18\n",
      "cadena       str          Hola mundo\n",
      "cdmx         coordCity    <__main__.coordCity object at 0x7f74e0081510>\n",
      "cdmxPop      coordCity    <__main__.coordCity object at 0x7f74e0a24250>\n",
      "celcius      function     <function <lambda> at 0x7f74e0184578>\n",
      "condicion    bool         False\n",
      "contPI       int          2\n",
      "coordCity    type         <class '__main__.coordCity'>\n",
      "dict1        dict         n=2\n",
      "dictCities   dict         n=5\n",
      "dictESEN     dict         n=3\n",
      "expo4        function     <function <lambda> at 0x7f74e0184410>\n",
      "expon2       function     <function expon2 at 0x7f74e0184320>\n",
      "expon3       function     <function expon3 at 0x7f74e01845f0>\n",
      "i            int          80\n",
      "isDiv        int          8\n",
      "j            int          79\n",
      "k            int          4\n",
      "l            list         n=15\n",
      "lista        list         n=9\n",
      "lista2       list         n=3\n",
      "mean         function     <function mean at 0x7f74e0184230>\n",
      "myFunction   function     <function myFunction at 0x7f74e00e5de8>\n",
      "myTupla      tuple        n=3\n",
      "n            int          80\n",
      "var1         complex      (1+15j)\n",
      "var2         str          super\n"
     ]
    }
   ],
   "source": [
    "#Para conocer todas las variables y valores que hemos trabajado podemos ocupar\n",
    "%whos"
   ]
  },
  {
   "cell_type": "code",
   "execution_count": 1,
   "metadata": {},
   "outputs": [],
   "source": [
    "from math import *  #De esta forma podemos generar distintas"
   ]
  },
  {
   "cell_type": "code",
   "execution_count": 2,
   "metadata": {},
   "outputs": [
    {
     "name": "stdout",
     "output_type": "stream",
     "text": [
      "Variable    Type                          Data/Info\n",
      "---------------------------------------------------\n",
      "acos        builtin_function_or_method    <built-in function acos>\n",
      "acosh       builtin_function_or_method    <built-in function acosh>\n",
      "asin        builtin_function_or_method    <built-in function asin>\n",
      "asinh       builtin_function_or_method    <built-in function asinh>\n",
      "atan        builtin_function_or_method    <built-in function atan>\n",
      "atan2       builtin_function_or_method    <built-in function atan2>\n",
      "atanh       builtin_function_or_method    <built-in function atanh>\n",
      "ceil        builtin_function_or_method    <built-in function ceil>\n",
      "copysign    builtin_function_or_method    <built-in function copysign>\n",
      "cos         builtin_function_or_method    <built-in function cos>\n",
      "cosh        builtin_function_or_method    <built-in function cosh>\n",
      "degrees     builtin_function_or_method    <built-in function degrees>\n",
      "e           float                         2.71828182846\n",
      "erf         builtin_function_or_method    <built-in function erf>\n",
      "erfc        builtin_function_or_method    <built-in function erfc>\n",
      "exp         builtin_function_or_method    <built-in function exp>\n",
      "expm1       builtin_function_or_method    <built-in function expm1>\n",
      "fabs        builtin_function_or_method    <built-in function fabs>\n",
      "factorial   builtin_function_or_method    <built-in function factorial>\n",
      "floor       builtin_function_or_method    <built-in function floor>\n",
      "fmod        builtin_function_or_method    <built-in function fmod>\n",
      "frexp       builtin_function_or_method    <built-in function frexp>\n",
      "fsum        builtin_function_or_method    <built-in function fsum>\n",
      "gamma       builtin_function_or_method    <built-in function gamma>\n",
      "hypot       builtin_function_or_method    <built-in function hypot>\n",
      "isinf       builtin_function_or_method    <built-in function isinf>\n",
      "isnan       builtin_function_or_method    <built-in function isnan>\n",
      "ldexp       builtin_function_or_method    <built-in function ldexp>\n",
      "lgamma      builtin_function_or_method    <built-in function lgamma>\n",
      "log         builtin_function_or_method    <built-in function log>\n",
      "log10       builtin_function_or_method    <built-in function log10>\n",
      "log1p       builtin_function_or_method    <built-in function log1p>\n",
      "modf        builtin_function_or_method    <built-in function modf>\n",
      "pi          float                         3.14159265359\n",
      "pow         builtin_function_or_method    <built-in function pow>\n",
      "radians     builtin_function_or_method    <built-in function radians>\n",
      "sin         builtin_function_or_method    <built-in function sin>\n",
      "sinh        builtin_function_or_method    <built-in function sinh>\n",
      "sqrt        builtin_function_or_method    <built-in function sqrt>\n",
      "tan         builtin_function_or_method    <built-in function tan>\n",
      "tanh        builtin_function_or_method    <built-in function tanh>\n",
      "trunc       builtin_function_or_method    <built-in function trunc>\n"
     ]
    }
   ],
   "source": [
    "#Hemos importado un set de funciones, disponibles en math\n",
    "%whos"
   ]
  },
  {
   "cell_type": "code",
   "execution_count": 5,
   "metadata": {},
   "outputs": [
    {
     "data": {
      "text/plain": [
       "-1.0"
      ]
     },
     "execution_count": 5,
     "metadata": {},
     "output_type": "execute_result"
    }
   ],
   "source": [
    "cos(pi) # Las funciones trigonometricas de math funcionan con angulos en radianes"
   ]
  },
  {
   "cell_type": "markdown",
   "metadata": {},
   "source": [
    "### Hard Quiz: Implemente una clase similar a coordCity, e incluyan el calculo de la distancia euclidiana y geodesica (esferica) entre una ciudad y otra"
   ]
  },
  {
   "cell_type": "markdown",
   "metadata": {},
   "source": [
    "![alt text](http://rosalind.info/media/Euclidean_distance.png)"
   ]
  },
  {
   "cell_type": "markdown",
   "metadata": {},
   "source": [
    "La distancia euclidea entre dos puntos $(x_1,y_1)$ y $(x_2,y_2)$ en un plano esta definida por el triangulo rectangulo: $$(x_2-x_1)^2+(y_2-y_1)^2 = d^2$$"
   ]
  },
  {
   "cell_type": "code",
   "execution_count": 6,
   "metadata": {},
   "outputs": [],
   "source": [
    "def distance(x1,y1,x2,y2):\n",
    "    return sqrt((x2-x1)**2+(y2-y1))"
   ]
  },
  {
   "cell_type": "code",
   "execution_count": 7,
   "metadata": {},
   "outputs": [
    {
     "data": {
      "text/plain": [
       "1.4142135623730951"
      ]
     },
     "execution_count": 7,
     "metadata": {},
     "output_type": "execute_result"
    }
   ],
   "source": [
    "distance(1,1,2,2)"
   ]
  },
  {
   "cell_type": "markdown",
   "metadata": {},
   "source": [
    "Para nuestro caso debemos ocupar la distancia euclidea en tres dimensiones"
   ]
  },
  {
   "cell_type": "markdown",
   "metadata": {},
   "source": [
    "Distancia euclidiana $$d(x_1,y_1,z_1,x_2,y_2,z_2) = \\sqrt{(x_1-x_2)^2+(y_1-y_2)^2+(y_1-y_2)^2}$$\n",
    "\n",
    "Partiendo del radio de la tierra promedio, la logitud y longitud debemos ocupar las coordenadas esfericas para generar las coordenadas euclideas\n",
    "\n",
    "## $$ x = r \\, cos \\phi \\, cos \\theta$$ \n",
    "## $$ y = r \\, cos \\phi \\, sin \\theta$$ \n",
    "## $$ z = r \\, sin \\phi $$\n",
    "\n",
    "A partir de los angulos que corresponden con:\n",
    "$$\\phi \\in \\left[0,\\pi \\right] \\text{ Latitud en radianes}$$\n",
    "$$\\theta \\in \\left[0,2\\pi \\right] \\text{ Longitud en radianes}$$\n",
    "\n",
    "\n",
    "$$r_{tierra} = 6371Km$$"
   ]
  },
  {
   "cell_type": "markdown",
   "metadata": {},
   "source": [
    "El problema durante la clase fue que la convencion geografica de latitud y longitud absolutas no es la misma a la que usamos tipicamente (bueno, yo no la uso) en matematicas, además que su dominio esta definido en grados $latitud \\in \\left[ -90°,90° \\right]$ y $longitud \\in \\left[ -180°,180° \\right]$, y las funciones `sin` y `cos` solo aceptan valores en radianes $ \\left[ 0,2\\pi \\right]$."
   ]
  },
  {
   "cell_type": "markdown",
   "metadata": {},
   "source": [
    "Corroboremos que $\\phi,\\theta$ nos dan los puntos en la esfera adecuados"
   ]
  },
  {
   "cell_type": "code",
   "execution_count": 8,
   "metadata": {},
   "outputs": [
    {
     "name": "stdout",
     "output_type": "stream",
     "text": [
      "(1.0, -1.0)\n"
     ]
    }
   ],
   "source": [
    "z = sin(0.5*pi),sin(-0.5*pi)\n",
    "print(z) # Es decir correponsden con los polos Norte y Sur"
   ]
  },
  {
   "cell_type": "code",
   "execution_count": 9,
   "metadata": {},
   "outputs": [],
   "source": [
    "# En el ecuador tenemos \\phi=0, por lo que z=0\n",
    "ecuador = lambda theta: (cos(theta*pi/180),sin(theta*pi/180))"
   ]
  },
  {
   "cell_type": "code",
   "execution_count": 10,
   "metadata": {},
   "outputs": [
    {
     "data": {
      "text/plain": [
       "((1.0, 0.0),\n",
       " (6.123233995736766e-17, 1.0),\n",
       " (-1.0, 1.2246467991473532e-16),\n",
       " (-0.8660254037844387, -0.49999999999999994),\n",
       " (6.123233995736766e-17, -1.0),\n",
       " (0.8660254037844387, -0.49999999999999994),\n",
       " (0.9999999999984769, -1.7453292519934434e-06))"
      ]
     },
     "execution_count": 10,
     "metadata": {},
     "output_type": "execute_result"
    }
   ],
   "source": [
    "ecuador(0), ecuador(90),ecuador(180), ecuador(-150), ecuador(-90),ecuador(-30),ecuador(-0.0001)"
   ]
  },
  {
   "cell_type": "markdown",
   "metadata": {},
   "source": [
    "![alt text](img/lat-long.png)\n",
    "\n",
    "https://www.geolounge.com/absolute-relative-location/"
   ]
  },
  {
   "cell_type": "markdown",
   "metadata": {},
   "source": [
    "La distancia geodesica esta definida por:\n",
    "\n",
    "$$d(\\phi_1,\\theta_1,\\phi_2,\\theta_2,r) = r \\Delta \\sigma $$\n",
    "\n",
    "$$\\Delta \\sigma = arctan(\\frac{ \\sqrt{(\\cos\\phi_2 \\, \\sin \\Delta \\theta)^2+(\\cos \\phi_1 \\sin \\phi_2 - \\sin \\phi_1 \\cos \\phi_2 \\cos \\Delta \\theta)^2} }{\\sin \\phi_1 \\sin \\phi_2+ \\cos \\phi_1 \\cos \\phi_2 \\cos \\Delta \\theta}) $$\n",
    "\n",
    "$$\\Delta \\theta = \\theta_2-\\theta_1$$\n",
    "\n",
    "la forma correcta de evaluar el arco tangente es mediante la funcion `atan2`"
   ]
  },
  {
   "cell_type": "code",
   "execution_count": 11,
   "metadata": {},
   "outputs": [],
   "source": [
    "class coordCityP(object):\n",
    "    ''' (cityArg, coordArg) coordAng longitud, latitud, This class generete a object for cities data '''\n",
    "    def __init__(self, cityArg, coordArg, \n",
    "                 popu = False, alt = False, surf=False):\n",
    "        self.cityname=cityArg \n",
    "        self.cityposition=coordArg\n",
    "        self.population = popu\n",
    "        self.altitud = alt\n",
    "        self.superficie = surf\n",
    "    def densPop(self):\n",
    "        if (not self.population) or (not self.superficie):\n",
    "            print('No data')\n",
    "        else:\n",
    "            return float(self.population)/float(self.superficie)\n",
    "    def distanceEuclidiana(self, city):\n",
    "        r = 6371.\n",
    "        latitud  = (self.cityposition[0])*pi/180.\n",
    "        longitud = (self.cityposition[1])*pi/180.\n",
    "        \n",
    "        xHere = r * cos(latitud) *cos(longitud)\n",
    "        yHere = r * cos(latitud) *sin(longitud)\n",
    "        zHere = r * sin(longitud)\n",
    "        \n",
    "        latitud =(city.cityposition[0])*pi/180. # Reutilizamos las variables, mas eficiencia en memoria!\n",
    "        longitud=(city.cityposition[1])*pi/180.\n",
    "        \n",
    "        xThere = r * cos(latitud) *cos(longitud)\n",
    "        yThere = r * cos(latitud) *sin(longitud)\n",
    "        zThere = r * sin(longitud)\n",
    "        \n",
    "        return sqrt((xHere-xThere)**2+(yHere-yThere)**2+(zHere-zThere)**2)\n",
    "        \n",
    "    def distanceGeodesica(self, city):\n",
    "        r = 6371.\n",
    "        lH  = (self.cityposition[0])*pi/180.\n",
    "        lT  = (city.cityposition[0])*pi/180.\n",
    "        longH = self.cityposition[1] \n",
    "        longT = city.cityposition[1] \n",
    "        dT  = (longT-longH)*pi/180.\n",
    "        dSigma  = atan2(sqrt( (cos(lT)*sin(dT))**2 + ( cos(lH)*sin(lT)- sin(lH)*cos(lT)*cos(dT) )**2),\n",
    "                        sin(lH)*sin(lT)+cos(lH)*cos(lT)*cos(dT))\n",
    "        return dSigma*r"
   ]
  },
  {
   "cell_type": "code",
   "execution_count": 12,
   "metadata": {},
   "outputs": [
    {
     "data": {
      "text/plain": [
       "(1.2246467991473532e-16, -2.4492935982947064e-16)"
      ]
     },
     "execution_count": 12,
     "metadata": {},
     "output_type": "execute_result"
    }
   ],
   "source": [
    "sin(pi),sin(2*pi)"
   ]
  },
  {
   "cell_type": "code",
   "execution_count": 13,
   "metadata": {},
   "outputs": [
    {
     "data": {
      "text/plain": [
       "0.6947382761967031"
      ]
     },
     "execution_count": 13,
     "metadata": {},
     "output_type": "execute_result"
    }
   ],
   "source": [
    "atan2(5,6)"
   ]
  },
  {
   "cell_type": "code",
   "execution_count": 14,
   "metadata": {},
   "outputs": [],
   "source": [
    "cdmx = coordCityP('CDMX',(19.4326077,-99.13320799999997))"
   ]
  },
  {
   "cell_type": "code",
   "execution_count": 15,
   "metadata": {},
   "outputs": [],
   "source": [
    "tapachula = coordCityP('Tapachula',(14.9055599,-92.26342060000002))"
   ]
  },
  {
   "cell_type": "code",
   "execution_count": 16,
   "metadata": {},
   "outputs": [
    {
     "data": {
      "text/plain": [
       "747.6240829996817"
      ]
     },
     "execution_count": 16,
     "metadata": {},
     "output_type": "execute_result"
    }
   ],
   "source": [
    "cdmx.distanceEuclidiana(tapachula)"
   ]
  },
  {
   "cell_type": "code",
   "execution_count": 17,
   "metadata": {},
   "outputs": [
    {
     "data": {
      "text/plain": [
       "747.6240829996817"
      ]
     },
     "execution_count": 17,
     "metadata": {},
     "output_type": "execute_result"
    }
   ],
   "source": [
    "tapachula.distanceEuclidiana(cdmx)"
   ]
  },
  {
   "cell_type": "code",
   "execution_count": 18,
   "metadata": {},
   "outputs": [
    {
     "data": {
      "text/plain": [
       "886.37334304566"
      ]
     },
     "execution_count": 18,
     "metadata": {},
     "output_type": "execute_result"
    }
   ],
   "source": [
    "cdmx.distanceGeodesica(tapachula) # Wow, apenas perceptible"
   ]
  },
  {
   "cell_type": "code",
   "execution_count": 19,
   "metadata": {},
   "outputs": [
    {
     "data": {
      "text/plain": [
       "886.37334304566"
      ]
     },
     "execution_count": 19,
     "metadata": {},
     "output_type": "execute_result"
    }
   ],
   "source": [
    "tapachula.distanceGeodesica(cdmx) # Comprobamos que sea simetrica"
   ]
  },
  {
   "cell_type": "code",
   "execution_count": 20,
   "metadata": {},
   "outputs": [
    {
     "data": {
      "text/plain": [
       "0.0"
      ]
     },
     "execution_count": 20,
     "metadata": {},
     "output_type": "execute_result"
    }
   ],
   "source": [
    "# Como probarian que calculamos correctamente la distancia, piensen en los caos limite conocidos.\n",
    "# Por ejempo la distancia a la misma ciudad\n",
    "cdmx.distanceEuclidiana(cdmx)"
   ]
  },
  {
   "cell_type": "code",
   "execution_count": 21,
   "metadata": {},
   "outputs": [
    {
     "data": {
      "text/plain": [
       "0.0"
      ]
     },
     "execution_count": 21,
     "metadata": {},
     "output_type": "execute_result"
    }
   ],
   "source": [
    "cdmx.distanceGeodesica(cdmx)"
   ]
  },
  {
   "cell_type": "code",
   "execution_count": 22,
   "metadata": {},
   "outputs": [],
   "source": [
    "#Supongamos que estamos sobre el ecuador, y solo nos movemos en direccion este, el viaje \n",
    "#recorrera la mitad del diametro de la tierra o dos veces su radio para el caso euclidiano\n",
    "city1 = coordCityP(cityArg='N1',coordArg=(0,0))\n",
    "city2 = coordCityP(cityArg='N1',coordArg=(0,180))"
   ]
  },
  {
   "cell_type": "code",
   "execution_count": 23,
   "metadata": {},
   "outputs": [
    {
     "data": {
      "text/plain": [
       "(12742.0, 12742.0, 12742)"
      ]
     },
     "execution_count": 23,
     "metadata": {},
     "output_type": "execute_result"
    }
   ],
   "source": [
    "city2.distanceEuclidiana(city1),city1.distanceEuclidiana(city2),2*6371."
   ]
  },
  {
   "cell_type": "code",
   "execution_count": 25,
   "metadata": {},
   "outputs": [
    {
     "data": {
      "text/plain": [
       "(20015.086796020572, 20015.086796020572, 20015.086796020572)"
      ]
     },
     "execution_count": 25,
     "metadata": {},
     "output_type": "execute_result"
    }
   ],
   "source": [
    "city2.distanceGeodesica(city1),city1.distanceGeodesica(city2),pi*6371."
   ]
  },
  {
   "cell_type": "markdown",
   "metadata": {},
   "source": [
    "# Referencias\n",
    "\n",
    "> https://www.gps-coordinates.net/\n",
    "\n",
    "> https://www.geolounge.com/absolute-relative-location/\n",
    "\n",
    "> https://en.wikipedia.org/wiki/Great-circle_distance"
   ]
  },
  {
   "cell_type": "code",
   "execution_count": null,
   "metadata": {},
   "outputs": [],
   "source": []
  }
 ],
 "metadata": {
  "kernelspec": {
   "display_name": "Python 2",
   "language": "python",
   "name": "python2"
  },
  "language_info": {
   "codemirror_mode": {
    "name": "ipython",
    "version": 2
   },
   "file_extension": ".py",
   "mimetype": "text/x-python",
   "name": "python",
   "nbconvert_exporter": "python",
   "pygments_lexer": "ipython2",
   "version": "2.7.12"
  }
 },
 "nbformat": 4,
 "nbformat_minor": 2
}
