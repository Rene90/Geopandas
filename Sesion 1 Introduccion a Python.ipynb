{
 "cells": [
  {
   "cell_type": "markdown",
   "metadata": {},
   "source": [
    "# Ciencia de Datos enfocada en Información Geográfica"
   ]
  },
  {
   "cell_type": "markdown",
   "metadata": {},
   "source": [
    "jesus.mendoza@nucleares..unam.mx\n",
    "dirac86@gmail.com"
   ]
  },
  {
   "cell_type": "markdown",
   "metadata": {},
   "source": [
    "# **TEMARIO**\n",
    "\n",
    ">I. Introducción a la programación en Python\n",
    "* 1.1 Tipos y operadores\n",
    "* 1.2 Control de flujo\n",
    "* 1.3 Colecciones\n",
    "* 1.4 Funciones\n",
    "* 1.5 Programación funcional*\n",
    "* 1.6 Métodos y atributos\n",
    "\n",
    ">II. Pandas y Ciencia de datos\n",
    "* 2.1 Introducción a la ciencia de datos\n",
    "* 2.2 Numpy\n",
    "* 2.3 DataSerie, DataFrame\n",
    "* 2.4 Indexación y selección\n",
    "* 2.5 Limpieza de datos\n",
    "* 2.6 Groupby\n",
    "* 2.7 Join, merged y concatenate\n",
    "* 2.8 Tablas pivot\n",
    "* 2.9 Apply\n",
    "* 2.10 Distribuciones\n",
    "* 2.11 Testeo de hipótesis en python\n",
    "* 2.12 Series de tiempo\n",
    "\n",
    ">III. Visualización\n",
    "* 3.1 Matplotlib\n",
    "* 3.2 Visualización en Pandas\n",
    "* 3.3 Seaborn\n",
    "\n",
    ">IV. Geopandas\n",
    "* 4.1 Entrada-Salida de información geográfica\n",
    "* 4.2 Indexación espacial - Rtree\n",
    "* 4.3 GeoSeries\n",
    "* 4.4 GeoDataFrame\n",
    "* 4.5 Manipulación de datos geográficos\n",
    "* 4.6 Administración de proyecciones\n",
    "* 4.7 Dissolve\n",
    "* 4.8 sJoin\n",
    "\n",
    ">V. Aplicaciones de Machine Learning en Python\n",
    "* 5.1 Una aplicación de los conocimientos adquiridos a un proyecto relacionado con el campo de estudios de los participantes.\n"
   ]
  },
  {
   "cell_type": "markdown",
   "metadata": {},
   "source": [
    "# 1.0 ¿Qué es Python?\n",
    "\n",
    "Un lenguaje de programación que es:\n",
    "\n",
    "* **Strongly typed** Que cualquier dato debe ser de un tipo predefinidos por **Python** (`float, int, string, bool`), de manera usual no operan entre ellos.\n",
    "\n",
    "* **Dynamically** No se declara el tipo de las variables, por lo cual hay que conocer las jerarquias al operar valores de distintos tipos.\n",
    "\n",
    "* **Case sensitive** Ditingue `A` y `a` como variables distintas.\n",
    "\n",
    "* **Object-oriented** Todo en python es un *object*.\n"
   ]
  },
  {
   "cell_type": "code",
   "execution_count": 1,
   "metadata": {},
   "outputs": [
    {
     "name": "stdout",
     "output_type": "stream",
     "text": [
      "Hello world!\n"
     ]
    }
   ],
   "source": [
    "print('Hello world!') # Esto es un comentario. Python simplemente no evalua lo que esta despues del simbolo #"
   ]
  },
  {
   "cell_type": "markdown",
   "metadata": {},
   "source": [
    "Utilizaremos el entorno de **Jupyter**, por ser mucho más interactivo en el desarrollo de código. También poseé extensiones utiles que nos permite documentar, comentar y referenciar de manera muy sencilla.\n",
    "\n",
    "Si desean conocer todas las caracteristicas de **Jupyter** pueden seguir este link http://jupyter.org/documentation o dar click la seccion del menú `Help`"
   ]
  },
  {
   "cell_type": "markdown",
   "metadata": {},
   "source": [
    "# 1.1 Tipos y operadores"
   ]
  },
  {
   "cell_type": "markdown",
   "metadata": {},
   "source": [
    "### Algunos tipos son: `float, int, bool, str`"
   ]
  },
  {
   "cell_type": "code",
   "execution_count": 2,
   "metadata": {},
   "outputs": [
    {
     "data": {
      "text/plain": [
       "15.3"
      ]
     },
     "execution_count": 2,
     "metadata": {},
     "output_type": "execute_result"
    }
   ],
   "source": [
    "#float: Flotantes\n",
    "15.3"
   ]
  },
  {
   "cell_type": "code",
   "execution_count": 3,
   "metadata": {},
   "outputs": [
    {
     "data": {
      "text/plain": [
       "10001"
      ]
     },
     "execution_count": 3,
     "metadata": {},
     "output_type": "execute_result"
    }
   ],
   "source": [
    "#int: Enteros\n",
    "10000+1 "
   ]
  },
  {
   "cell_type": "code",
   "execution_count": 4,
   "metadata": {},
   "outputs": [
    {
     "data": {
      "text/plain": [
       "1e+31"
      ]
     },
     "execution_count": 4,
     "metadata": {},
     "output_type": "execute_result"
    }
   ],
   "source": [
    "# Tanto los enteros como los flotantes son representaciones\n",
    "# de los números reales, quienes por estar representados de forma finita\n",
    "# tendran el problema de redondeo\n",
    "\n",
    "# Por ejemplo, sumar numeros con ordenes de magnitud muy distintos (1e31 y 1e1)\n",
    "# conlleva a que el error por redondeo genere un error por redondeo\n",
    "10000000000000000000000000000000.+15"
   ]
  },
  {
   "cell_type": "code",
   "execution_count": 5,
   "metadata": {},
   "outputs": [
    {
     "data": {
      "text/plain": [
       "(1+5j)"
      ]
     },
     "execution_count": 5,
     "metadata": {},
     "output_type": "execute_result"
    }
   ],
   "source": [
    "# Tambien existe una representacion para los numeros complejos\n",
    "1+5j"
   ]
  },
  {
   "cell_type": "code",
   "execution_count": 6,
   "metadata": {},
   "outputs": [
    {
     "data": {
      "text/plain": [
       "complex"
      ]
     },
     "execution_count": 6,
     "metadata": {},
     "output_type": "execute_result"
    }
   ],
   "source": [
    "# Para conocer el tipo de un valor podemos utilizar la función: type()\n",
    "type(1+5j)"
   ]
  },
  {
   "cell_type": "code",
   "execution_count": 7,
   "metadata": {},
   "outputs": [
    {
     "data": {
      "text/plain": [
       "int"
      ]
     },
     "execution_count": 7,
     "metadata": {},
     "output_type": "execute_result"
    }
   ],
   "source": [
    "type(5)"
   ]
  },
  {
   "cell_type": "code",
   "execution_count": 8,
   "metadata": {},
   "outputs": [
    {
     "data": {
      "text/plain": [
       "float"
      ]
     },
     "execution_count": 8,
     "metadata": {},
     "output_type": "execute_result"
    }
   ],
   "source": [
    "type(5.)"
   ]
  },
  {
   "cell_type": "code",
   "execution_count": 9,
   "metadata": {},
   "outputs": [
    {
     "data": {
      "text/plain": [
       "bool"
      ]
     },
     "execution_count": 9,
     "metadata": {},
     "output_type": "execute_result"
    }
   ],
   "source": [
    "# Otros tipos son:\n",
    "type(True)"
   ]
  },
  {
   "cell_type": "code",
   "execution_count": 10,
   "metadata": {},
   "outputs": [
    {
     "data": {
      "text/plain": [
       "bool"
      ]
     },
     "execution_count": 10,
     "metadata": {},
     "output_type": "execute_result"
    }
   ],
   "source": [
    "type(False)"
   ]
  },
  {
   "cell_type": "code",
   "execution_count": 11,
   "metadata": {},
   "outputs": [
    {
     "data": {
      "text/plain": [
       "'Hola mundo!'"
      ]
     },
     "execution_count": 11,
     "metadata": {},
     "output_type": "execute_result"
    }
   ],
   "source": [
    "'Hola mundo!'"
   ]
  },
  {
   "cell_type": "code",
   "execution_count": 12,
   "metadata": {},
   "outputs": [
    {
     "data": {
      "text/plain": [
       "str"
      ]
     },
     "execution_count": 12,
     "metadata": {},
     "output_type": "execute_result"
    }
   ],
   "source": [
    "type('Buen dia a todos') # las cadenas de caracteres o strings se abrevian como str"
   ]
  },
  {
   "cell_type": "markdown",
   "metadata": {},
   "source": [
    "Existe una jerarquia entre **operadores algebraicos** entre cuales operaciones son evaluados con mayor prioridad a otras.\n",
    "\n",
    "\n",
    "| Operator        | Jerarquia          |\n",
    "| :-------------: |:-------------:| \n",
    "| **      | mayor | \n",
    "| -     |     |   \n",
    "| *,/,//,% |      |    \n",
    "| +,- | menor     | "
   ]
  },
  {
   "cell_type": "markdown",
   "metadata": {},
   "source": [
    "Utilizando `()` podemos hacer explicito el orden al evaluar las expresiones, evaluando de los parentesis internos a los externos"
   ]
  },
  {
   "cell_type": "code",
   "execution_count": 13,
   "metadata": {},
   "outputs": [
    {
     "data": {
      "text/plain": [
       "-16"
      ]
     },
     "execution_count": 13,
     "metadata": {},
     "output_type": "execute_result"
    }
   ],
   "source": [
    "# Esta jerarquia nos lleva a que la exponenciación\n",
    "-2**4\n",
    "# no de los resultados esperados"
   ]
  },
  {
   "cell_type": "code",
   "execution_count": 14,
   "metadata": {},
   "outputs": [
    {
     "data": {
      "text/plain": [
       "4"
      ]
     },
     "execution_count": 14,
     "metadata": {},
     "output_type": "execute_result"
    }
   ],
   "source": [
    "(-2)**2 # Con () hacemos explicito que evaluemos primero la expresion entre parentesis"
   ]
  },
  {
   "cell_type": "markdown",
   "metadata": {},
   "source": [
    "**Quiz 1**: Conviertan 68.5$^o$F a la escala celcius. Recuerden que $$T_C = (T_F -32) \\times \\left(\\frac{5}{9}\\right)$$"
   ]
  },
  {
   "cell_type": "code",
   "execution_count": 15,
   "metadata": {},
   "outputs": [
    {
     "data": {
      "text/plain": [
       "50.72222222222222"
      ]
     },
     "execution_count": 15,
     "metadata": {},
     "output_type": "execute_result"
    }
   ],
   "source": [
    "68.5-32*5./9 # Es común comenter errores de este tipo"
   ]
  },
  {
   "cell_type": "code",
   "execution_count": 16,
   "metadata": {},
   "outputs": [
    {
     "data": {
      "text/plain": [
       "20.27777777777778"
      ]
     },
     "execution_count": 16,
     "metadata": {},
     "output_type": "execute_result"
    }
   ],
   "source": [
    "(68.5-32)*(5./9)"
   ]
  },
  {
   "cell_type": "code",
   "execution_count": 17,
   "metadata": {},
   "outputs": [
    {
     "data": {
      "text/plain": [
       "0.5555555555555556"
      ]
     },
     "execution_count": 17,
     "metadata": {},
     "output_type": "execute_result"
    }
   ],
   "source": [
    "# Para ver por que obtuvimos 50.72 en la primera evaluacion, \n",
    "# podmos ocupar la tabla de jeraquias en las operaciones\n",
    "# Primero se evalua \n",
    "5./9"
   ]
  },
  {
   "cell_type": "code",
   "execution_count": 18,
   "metadata": {},
   "outputs": [
    {
     "data": {
      "text/plain": [
       "17.77777777777778"
      ]
     },
     "execution_count": 18,
     "metadata": {},
     "output_type": "execute_result"
    }
   ],
   "source": [
    "# Este valor se guarda en el simbolo _\n",
    "# Despues hace la multiplicacion\n",
    "32*_"
   ]
  },
  {
   "cell_type": "code",
   "execution_count": 19,
   "metadata": {},
   "outputs": [
    {
     "data": {
      "text/plain": [
       "50.72222222222222"
      ]
     },
     "execution_count": 19,
     "metadata": {},
     "output_type": "execute_result"
    }
   ],
   "source": [
    "# Y al final realiza la resta\n",
    "68.5 - _"
   ]
  },
  {
   "cell_type": "code",
   "execution_count": 20,
   "metadata": {},
   "outputs": [
    {
     "data": {
      "text/plain": [
       "50.72222222222222"
      ]
     },
     "execution_count": 20,
     "metadata": {},
     "output_type": "execute_result"
    }
   ],
   "source": [
    "_"
   ]
  },
  {
   "cell_type": "code",
   "execution_count": 21,
   "metadata": {},
   "outputs": [
    {
     "data": {
      "text/plain": [
       "'Hola a todosHola a todosHola a todosHola a todosHola a todos'"
      ]
     },
     "execution_count": 21,
     "metadata": {},
     "output_type": "execute_result"
    }
   ],
   "source": [
    "# Python por default tiene definidas operaciones entre tipos, que en otros lenguajes\n",
    "# no existen\n",
    "\n",
    "'Hola a todos' * 5"
   ]
  },
  {
   "cell_type": "code",
   "execution_count": 22,
   "metadata": {},
   "outputs": [
    {
     "data": {
      "text/plain": [
       "(9.99999+5j)"
      ]
     },
     "execution_count": 22,
     "metadata": {},
     "output_type": "execute_result"
    }
   ],
   "source": [
    "1+5j +8.99999 #complejo mas un entero"
   ]
  },
  {
   "cell_type": "code",
   "execution_count": 23,
   "metadata": {},
   "outputs": [
    {
     "ename": "TypeError",
     "evalue": "can't multiply sequence by non-int of type 'float'",
     "output_type": "error",
     "traceback": [
      "\u001b[0;31m---------------------------------------------------------------------------\u001b[0m",
      "\u001b[0;31mTypeError\u001b[0m                                 Traceback (most recent call last)",
      "\u001b[0;32m<ipython-input-23-75659aa8dd68>\u001b[0m in \u001b[0;36m<module>\u001b[0;34m()\u001b[0m\n\u001b[1;32m      1\u001b[0m \u001b[0;31m# Por supuesto, si la operacion no esta definida arrojará un error!\u001b[0m\u001b[0;34m\u001b[0m\u001b[0;34m\u001b[0m\u001b[0m\n\u001b[1;32m      2\u001b[0m \u001b[0;34m\u001b[0m\u001b[0m\n\u001b[0;32m----> 3\u001b[0;31m \u001b[0;34m'Hola a todos'\u001b[0m \u001b[0;34m*\u001b[0m \u001b[0;36m5.5\u001b[0m\u001b[0;34m\u001b[0m\u001b[0m\n\u001b[0m",
      "\u001b[0;31mTypeError\u001b[0m: can't multiply sequence by non-int of type 'float'"
     ]
    }
   ],
   "source": [
    "# Por supuesto, si la operacion no esta definida arrojará un error!\n",
    "\n",
    "'Hola a todos' * 5.5"
   ]
  },
  {
   "cell_type": "code",
   "execution_count": 24,
   "metadata": {},
   "outputs": [
    {
     "data": {
      "text/plain": [
       "'Hola a todos5'"
      ]
     },
     "execution_count": 24,
     "metadata": {},
     "output_type": "execute_result"
    }
   ],
   "source": [
    "'Hola a todos' + '5'"
   ]
  },
  {
   "cell_type": "code",
   "execution_count": 25,
   "metadata": {},
   "outputs": [
    {
     "ename": "TypeError",
     "evalue": "unsupported operand type(s) for ** or pow(): 'str' and 'int'",
     "output_type": "error",
     "traceback": [
      "\u001b[0;31m---------------------------------------------------------------------------\u001b[0m",
      "\u001b[0;31mTypeError\u001b[0m                                 Traceback (most recent call last)",
      "\u001b[0;32m<ipython-input-25-f70bf801a5f7>\u001b[0m in \u001b[0;36m<module>\u001b[0;34m()\u001b[0m\n\u001b[0;32m----> 1\u001b[0;31m \u001b[0;34m'Hola'\u001b[0m\u001b[0;34m**\u001b[0m\u001b[0;36m2\u001b[0m\u001b[0;34m\u001b[0m\u001b[0m\n\u001b[0m",
      "\u001b[0;31mTypeError\u001b[0m: unsupported operand type(s) for ** or pow(): 'str' and 'int'"
     ]
    }
   ],
   "source": [
    "'Hola'**2"
   ]
  },
  {
   "cell_type": "code",
   "execution_count": 26,
   "metadata": {},
   "outputs": [
    {
     "data": {
      "text/plain": [
       "(-4-4j)"
      ]
     },
     "execution_count": 26,
     "metadata": {},
     "output_type": "execute_result"
    }
   ],
   "source": [
    "(1+1j)**5"
   ]
  },
  {
   "cell_type": "code",
   "execution_count": 27,
   "metadata": {},
   "outputs": [
    {
     "data": {
      "text/plain": [
       "(-2.5743770116223352-6.2150958961201495j)"
      ]
     },
     "execution_count": 27,
     "metadata": {},
     "output_type": "execute_result"
    }
   ],
   "source": [
    "(1+1j)**5.5"
   ]
  },
  {
   "cell_type": "markdown",
   "metadata": {},
   "source": [
    "### Operadores lógicos: ``>,<,==, >=,<=, is, not``"
   ]
  },
  {
   "cell_type": "code",
   "execution_count": 28,
   "metadata": {},
   "outputs": [
    {
     "data": {
      "text/plain": [
       "True"
      ]
     },
     "execution_count": 28,
     "metadata": {},
     "output_type": "execute_result"
    }
   ],
   "source": [
    "#Los operadores logicos son binarios y su evaluacion devuelve un tipo bool\n",
    "1==1"
   ]
  },
  {
   "cell_type": "code",
   "execution_count": 29,
   "metadata": {},
   "outputs": [
    {
     "data": {
      "text/plain": [
       "True"
      ]
     },
     "execution_count": 29,
     "metadata": {},
     "output_type": "execute_result"
    }
   ],
   "source": [
    "15 > 5"
   ]
  },
  {
   "cell_type": "code",
   "execution_count": 30,
   "metadata": {},
   "outputs": [
    {
     "data": {
      "text/plain": [
       "False"
      ]
     },
     "execution_count": 30,
     "metadata": {},
     "output_type": "execute_result"
    }
   ],
   "source": [
    "15 < 5"
   ]
  },
  {
   "cell_type": "code",
   "execution_count": 31,
   "metadata": {},
   "outputs": [
    {
     "data": {
      "text/plain": [
       "True"
      ]
     },
     "execution_count": 31,
     "metadata": {},
     "output_type": "execute_result"
    }
   ],
   "source": [
    "15>=15"
   ]
  },
  {
   "cell_type": "code",
   "execution_count": 32,
   "metadata": {},
   "outputs": [
    {
     "data": {
      "text/plain": [
       "True"
      ]
     },
     "execution_count": 32,
     "metadata": {},
     "output_type": "execute_result"
    }
   ],
   "source": [
    "9<=8.9999999999999999999"
   ]
  },
  {
   "cell_type": "code",
   "execution_count": 33,
   "metadata": {},
   "outputs": [
    {
     "data": {
      "text/plain": [
       "False"
      ]
     },
     "execution_count": 33,
     "metadata": {},
     "output_type": "execute_result"
    }
   ],
   "source": [
    "9<=8.999999999"
   ]
  },
  {
   "cell_type": "code",
   "execution_count": 34,
   "metadata": {},
   "outputs": [
    {
     "data": {
      "text/plain": [
       "False"
      ]
     },
     "execution_count": 34,
     "metadata": {},
     "output_type": "execute_result"
    }
   ],
   "source": [
    "'8 is 15' is '8 is 15 '"
   ]
  },
  {
   "cell_type": "code",
   "execution_count": 35,
   "metadata": {},
   "outputs": [
    {
     "data": {
      "text/plain": [
       "True"
      ]
     },
     "execution_count": 35,
     "metadata": {},
     "output_type": "execute_result"
    }
   ],
   "source": [
    "not False"
   ]
  },
  {
   "cell_type": "code",
   "execution_count": 36,
   "metadata": {},
   "outputs": [
    {
     "data": {
      "text/plain": [
       "False"
      ]
     },
     "execution_count": 36,
     "metadata": {},
     "output_type": "execute_result"
    }
   ],
   "source": [
    "not True"
   ]
  },
  {
   "cell_type": "markdown",
   "metadata": {},
   "source": [
    "### Variables y el operador de asignación =\n",
    "```python\n",
    "                        var = 15*5**6/5\n",
    "```\n",
    "                        \n",
    "    Paso 1. Evalua la expresion del lado derecho del operador =\n",
    "    Paso 2. Asigna la dirección en memoria de la variable definida (var).\n",
    "    \n",
    "    \n",
    "> Las variables pueden contener números, letras y el simbolo `_`, pero sólo pueden comenzar con letras o `_`. Cualquier otro es susecptible de generar errores."
   ]
  },
  {
   "cell_type": "code",
   "execution_count": 37,
   "metadata": {},
   "outputs": [
    {
     "ename": "SyntaxError",
     "evalue": "invalid syntax (<ipython-input-37-0b37d19e3840>, line 1)",
     "output_type": "error",
     "traceback": [
      "\u001b[0;36m  File \u001b[0;32m\"<ipython-input-37-0b37d19e3840>\"\u001b[0;36m, line \u001b[0;32m1\u001b[0m\n\u001b[0;31m    1k5 = 15 # Un error de syntaxis quiere decir que Python no reconoce la expresion a evaluar como una expresion valida\u001b[0m\n\u001b[0m      ^\u001b[0m\n\u001b[0;31mSyntaxError\u001b[0m\u001b[0;31m:\u001b[0m invalid syntax\n"
     ]
    }
   ],
   "source": [
    "1k5 = 15 # Un error de syntaxis quiere decir que Python no reconoce la expresion a evaluar como una expresion valida\n",
    "# Es como si le hablaras en chino, a alguien que no sabe chino!"
   ]
  },
  {
   "cell_type": "code",
   "execution_count": 38,
   "metadata": {},
   "outputs": [],
   "source": [
    "_1k5 = 15"
   ]
  },
  {
   "cell_type": "code",
   "execution_count": 39,
   "metadata": {},
   "outputs": [
    {
     "ename": "NameError",
     "evalue": "name 'var1' is not defined",
     "output_type": "error",
     "traceback": [
      "\u001b[0;31m---------------------------------------------------------------------------\u001b[0m",
      "\u001b[0;31mNameError\u001b[0m                                 Traceback (most recent call last)",
      "\u001b[0;32m<ipython-input-39-931966523b97>\u001b[0m in \u001b[0;36m<module>\u001b[0;34m()\u001b[0m\n\u001b[1;32m      1\u001b[0m \u001b[0;31m# Un error típico es utilizar una variable que no hemos defino aún\u001b[0m\u001b[0;34m\u001b[0m\u001b[0;34m\u001b[0m\u001b[0m\n\u001b[0;32m----> 2\u001b[0;31m \u001b[0mvar1\u001b[0m\u001b[0;34m\u001b[0m\u001b[0m\n\u001b[0m",
      "\u001b[0;31mNameError\u001b[0m: name 'var1' is not defined"
     ]
    }
   ],
   "source": [
    "# Un error típico es utilizar una variable que no hemos defino aún\n",
    "var1"
   ]
  },
  {
   "cell_type": "code",
   "execution_count": 40,
   "metadata": {},
   "outputs": [],
   "source": [
    "# Al operador = se le llama de asignacion por que asigna la evaluacion del lado derecho (su direccion en realidad) \n",
    "# Y la guarda dentro de nuestra variable\n",
    "var1=15+9*8.6**99"
   ]
  },
  {
   "cell_type": "code",
   "execution_count": 41,
   "metadata": {},
   "outputs": [
    {
     "data": {
      "text/plain": [
       "2.9484188734873697e+93"
      ]
     },
     "execution_count": 41,
     "metadata": {},
     "output_type": "execute_result"
    }
   ],
   "source": [
    "var1"
   ]
  },
  {
   "cell_type": "code",
   "execution_count": 42,
   "metadata": {},
   "outputs": [
    {
     "data": {
      "text/plain": [
       "140139749708760"
      ]
     },
     "execution_count": 42,
     "metadata": {},
     "output_type": "execute_result"
    }
   ],
   "source": [
    "# Una manera de ver que hace Python al crear variables es utilizando la funcion id()\n",
    "id(var1)"
   ]
  },
  {
   "cell_type": "code",
   "execution_count": 43,
   "metadata": {},
   "outputs": [],
   "source": [
    "var1=1+15j"
   ]
  },
  {
   "cell_type": "code",
   "execution_count": 44,
   "metadata": {},
   "outputs": [
    {
     "data": {
      "text/plain": [
       "140139961201360"
      ]
     },
     "execution_count": 44,
     "metadata": {},
     "output_type": "execute_result"
    }
   ],
   "source": [
    "id(var1) # Python guarda en la variables la direccion a una direccion en memoria \n",
    "# Y al asignar un nuevo valor, solo cambia la direccion a la que hace referencia al crea una nueva variable"
   ]
  },
  {
   "cell_type": "code",
   "execution_count": 45,
   "metadata": {},
   "outputs": [
    {
     "ename": "SyntaxError",
     "evalue": "can't assign to literal (<ipython-input-45-26608ca456d7>, line 1)",
     "output_type": "error",
     "traceback": [
      "\u001b[0;36m  File \u001b[0;32m\"<ipython-input-45-26608ca456d7>\"\u001b[0;36m, line \u001b[0;32m1\u001b[0m\n\u001b[0;31m    15 = var1\u001b[0m\n\u001b[0;31mSyntaxError\u001b[0m\u001b[0;31m:\u001b[0m can't assign to literal\n"
     ]
    }
   ],
   "source": [
    "15 = var1"
   ]
  },
  {
   "cell_type": "markdown",
   "metadata": {},
   "source": [
    "La idea de dejar los errores en el Notebook, es aprender de ellos y entender como resolverlos."
   ]
  },
  {
   "cell_type": "markdown",
   "metadata": {},
   "source": [
    "# 1.2 Control de flujo\n",
    "\n",
    "`if, elif, else, for, while, break, continue`\n",
    "\n",
    "*Ojo: Los bloques de codigo definen el inicio y fin del bucle o condición a evaluar. Este bloque se define por `:` inicial y una separcion de la linea constante, que por convencion debe ser igual a cuatro espacios aunque no es necesario."
   ]
  },
  {
   "cell_type": "code",
   "execution_count": 46,
   "metadata": {},
   "outputs": [
    {
     "name": "stdout",
     "output_type": "stream",
     "text": [
      "Ve por tu lechita!\n"
     ]
    }
   ],
   "source": [
    "age = 15\n",
    "if age > 18: # A esta estructura de codigo se le llama un condicional\n",
    "    print('Puedes tomar alcohol hasta morir!') # Boque de codigo que se evalua\n",
    "elif age >= 17.99:\n",
    "    print('Puedes tomar alcohol, pero no hasta morir')\n",
    "else:\n",
    "    print('Ve por tu lechita!')"
   ]
  },
  {
   "cell_type": "code",
   "execution_count": 47,
   "metadata": {},
   "outputs": [
    {
     "name": "stdout",
     "output_type": "stream",
     "text": [
      "Puedes tomar alcohol, pero no hasta morir\n"
     ]
    }
   ],
   "source": [
    "age = 17.99\n",
    "if age > 18:\n",
    "    print('Puedes tomar alcohol hasta morir!') # Boque de codigo que se evalua\n",
    "elif age >= 17.99:\n",
    "    print('Puedes tomar alcohol, pero no hasta morir')\n",
    "else:\n",
    "    print('Ve por tu lechita!')"
   ]
  },
  {
   "cell_type": "code",
   "execution_count": 48,
   "metadata": {},
   "outputs": [
    {
     "name": "stdout",
     "output_type": "stream",
     "text": [
      "Puedes tomar alcohol hasta morir!\n"
     ]
    }
   ],
   "source": [
    "age = 59\n",
    "if age > 18:\n",
    "    print('Puedes tomar alcohol hasta morir!') # Boque de codigo que se evalua\n",
    "elif age >= 17.99:\n",
    "    print('Puedes tomar alcohol, pero no hasta morir')\n",
    "else:\n",
    "    print('Ve por tu lechita!')"
   ]
  },
  {
   "cell_type": "code",
   "execution_count": 49,
   "metadata": {},
   "outputs": [
    {
     "name": "stdout",
     "output_type": "stream",
     "text": [
      "0\n",
      "1\n",
      "2\n",
      "3\n",
      "4\n"
     ]
    }
   ],
   "source": [
    "# Para realizar iteraciones o tareas que se repiten podemos utilizar los bucles\n",
    "for i in range(5):\n",
    "    print(i)\n",
    "# range() es una función que en Python 2 devuelve una lista\n",
    "# y que en Python 3 devuelve un iterador"
   ]
  },
  {
   "cell_type": "code",
   "execution_count": 50,
   "metadata": {},
   "outputs": [
    {
     "name": "stdout",
     "output_type": "stream",
     "text": [
      "0\n",
      "1\n",
      "2\n",
      "3\n",
      "4\n",
      "4\n"
     ]
    }
   ],
   "source": [
    "for k in range(5):\n",
    "    print(k) # es la variable que toma valores en range(5), un conjunto de valores a iterar\n",
    "print(k) # k se vuelve una variable"
   ]
  },
  {
   "cell_type": "code",
   "execution_count": 51,
   "metadata": {},
   "outputs": [
    {
     "name": "stdout",
     "output_type": "stream",
     "text": [
      "0\n",
      "0\n",
      "1\n",
      "1\n",
      "2\n",
      "4\n",
      "3\n",
      "9\n",
      "4\n",
      "16\n"
     ]
    }
   ],
   "source": [
    "for k in range(5):\n",
    "    print(k) # es la variable que toma valores en range(5), un conjunto de valores a iterar\n",
    "    print(k**2) # k se vuelve una variable"
   ]
  },
  {
   "cell_type": "code",
   "execution_count": 52,
   "metadata": {},
   "outputs": [
    {
     "name": "stdout",
     "output_type": "stream",
     "text": [
      "Esto está en el bucle\n",
      "Esto está en el bucle\n",
      "Esto está en el bucle\n",
      "Esto está en el bucle\n",
      "Esto está en el bucle\n",
      "Esto ya no\n"
     ]
    }
   ],
   "source": [
    "for k in range(5):\n",
    "    print('Esto está en el bucle') # es la variable que toma valores en range(5), un conjunto de valores a iterar\n",
    "print('Esto ya no')"
   ]
  },
  {
   "cell_type": "code",
   "execution_count": 53,
   "metadata": {},
   "outputs": [
    {
     "data": {
      "text/plain": [
       "[0, 1, 2, 3, 4, 5, 6, 7, 8, 9]"
      ]
     },
     "execution_count": 53,
     "metadata": {},
     "output_type": "execute_result"
    }
   ],
   "source": [
    "# La funcion range() se puede usar como\n",
    "range(10) # Los indices en Python arrancan en 0"
   ]
  },
  {
   "cell_type": "code",
   "execution_count": 54,
   "metadata": {},
   "outputs": [
    {
     "data": {
      "text/plain": [
       "[1, 2, 3, 4, 5]"
      ]
     },
     "execution_count": 54,
     "metadata": {},
     "output_type": "execute_result"
    }
   ],
   "source": [
    "range(1,6)"
   ]
  },
  {
   "cell_type": "code",
   "execution_count": 55,
   "metadata": {},
   "outputs": [
    {
     "data": {
      "text/plain": [
       "[0, 10, 20, 30, 40, 50, 60, 70, 80, 90]"
      ]
     },
     "execution_count": 55,
     "metadata": {},
     "output_type": "execute_result"
    }
   ],
   "source": [
    "range(0,100,10)"
   ]
  },
  {
   "cell_type": "code",
   "execution_count": 56,
   "metadata": {},
   "outputs": [],
   "source": [
    "# Una lista es:\n",
    "lista = [1,6,8,9,'jlskfgjs', True]\n",
    "# Una coleccion de distintos datos que pueden o no tener un tipo disitinto"
   ]
  },
  {
   "cell_type": "code",
   "execution_count": 57,
   "metadata": {},
   "outputs": [
    {
     "data": {
      "text/plain": [
       "[1, 6, 8, 9, 'jlskfgjs', True]"
      ]
     },
     "execution_count": 57,
     "metadata": {},
     "output_type": "execute_result"
    }
   ],
   "source": [
    "lista"
   ]
  },
  {
   "cell_type": "code",
   "execution_count": 58,
   "metadata": {},
   "outputs": [
    {
     "data": {
      "text/plain": [
       "9"
      ]
     },
     "execution_count": 58,
     "metadata": {},
     "output_type": "execute_result"
    }
   ],
   "source": [
    "# Podemos acceder a los elementos de una lista mediante\n",
    "lista[3] # su indice o posicion en la lista"
   ]
  },
  {
   "cell_type": "code",
   "execution_count": 59,
   "metadata": {},
   "outputs": [
    {
     "data": {
      "text/plain": [
       "[9, 'jlskfgjs']"
      ]
     },
     "execution_count": 59,
     "metadata": {},
     "output_type": "execute_result"
    }
   ],
   "source": [
    "lista[3:5] # un rango de indices"
   ]
  },
  {
   "cell_type": "code",
   "execution_count": 60,
   "metadata": {},
   "outputs": [
    {
     "data": {
      "text/plain": [
       "[9, 'jlskfgjs', True]"
      ]
     },
     "execution_count": 60,
     "metadata": {},
     "output_type": "execute_result"
    }
   ],
   "source": [
    "lista[3:]"
   ]
  },
  {
   "cell_type": "code",
   "execution_count": 61,
   "metadata": {},
   "outputs": [
    {
     "data": {
      "text/plain": [
       "True"
      ]
     },
     "execution_count": 61,
     "metadata": {},
     "output_type": "execute_result"
    }
   ],
   "source": [
    "lista[-1] # contando las posiciones de forma inversa"
   ]
  },
  {
   "cell_type": "code",
   "execution_count": 62,
   "metadata": {},
   "outputs": [
    {
     "data": {
      "text/plain": [
       "[1, 8, 'jlskfgjs']"
      ]
     },
     "execution_count": 62,
     "metadata": {},
     "output_type": "execute_result"
    }
   ],
   "source": [
    "lista[::2] # saltando una posición"
   ]
  },
  {
   "cell_type": "markdown",
   "metadata": {},
   "source": [
    "**Quiz 1**: Impriman los primero quince numeros pares"
   ]
  },
  {
   "cell_type": "code",
   "execution_count": 63,
   "metadata": {},
   "outputs": [
    {
     "name": "stdout",
     "output_type": "stream",
     "text": [
      "2\n",
      "4\n",
      "6\n",
      "8\n",
      "10\n",
      "12\n",
      "14\n",
      "16\n",
      "18\n",
      "20\n",
      "22\n",
      "24\n",
      "26\n",
      "28\n",
      "30\n"
     ]
    }
   ],
   "source": [
    "for i in range(1,16):\n",
    "    print(2*i)"
   ]
  },
  {
   "cell_type": "markdown",
   "metadata": {},
   "source": [
    "**Quiz 2**: Impriman los primero quince numeros impares"
   ]
  },
  {
   "cell_type": "code",
   "execution_count": 64,
   "metadata": {},
   "outputs": [
    {
     "name": "stdout",
     "output_type": "stream",
     "text": [
      "1\n",
      "3\n",
      "5\n",
      "7\n",
      "9\n",
      "11\n",
      "13\n",
      "15\n",
      "17\n",
      "19\n",
      "21\n",
      "23\n",
      "25\n",
      "27\n",
      "29\n"
     ]
    }
   ],
   "source": [
    "for i in range(1,16):\n",
    "    print(2*i-1)"
   ]
  },
  {
   "cell_type": "code",
   "execution_count": 65,
   "metadata": {},
   "outputs": [
    {
     "name": "stdout",
     "output_type": "stream",
     "text": [
      "Verdadera\n"
     ]
    },
    {
     "data": {
      "text/plain": [
       "False"
      ]
     },
     "execution_count": 65,
     "metadata": {},
     "output_type": "execute_result"
    }
   ],
   "source": [
    "# En cambio, el bucle while se ejecuta hasta que la condicion que evalua se vuelve falsa\n",
    "condicion = True\n",
    "\n",
    "while condicion:\n",
    "    print('Verdadera')\n",
    "    condicion = False\n",
    "    \n",
    "condicion"
   ]
  },
  {
   "cell_type": "code",
   "execution_count": 66,
   "metadata": {},
   "outputs": [
    {
     "name": "stdout",
     "output_type": "stream",
     "text": [
      "Muy joven para tomar!\n",
      "Muy joven para tomar!\n",
      "Muy joven para tomar!\n",
      "Muy joven para tomar!\n",
      "Muy joven para tomar!\n",
      "Muy joven para tomar!\n",
      "Muy joven para tomar!\n",
      "Muy joven para tomar!\n",
      "Muy joven para tomar!\n",
      "Muy joven para tomar!\n",
      "Muy joven para tomar!\n",
      "Muy joven para tomar!\n",
      "Muy joven para tomar!\n",
      "Muy joven para tomar!\n",
      "Muy joven para tomar!\n",
      "Muy joven para tomar!\n",
      "Muy joven para tomar!\n",
      "Muy joven para tomar!\n",
      "Muy joven para tomar!\n"
     ]
    },
    {
     "data": {
      "text/plain": [
       "19"
      ]
     },
     "execution_count": 66,
     "metadata": {},
     "output_type": "execute_result"
    }
   ],
   "source": [
    "age = 0\n",
    "while age <= 18:\n",
    "    print('Muy joven para tomar!')\n",
    "    age = age + 1\n",
    "age"
   ]
  },
  {
   "cell_type": "code",
   "execution_count": 67,
   "metadata": {},
   "outputs": [
    {
     "name": "stdout",
     "output_type": "stream",
     "text": [
      "Muy joven para tomar!\n",
      "Muy joven para tomar!\n",
      "Muy joven para tomar!\n",
      "Muy joven para tomar!\n",
      "Muy joven para tomar!\n",
      "Muy joven para tomar!\n",
      "Muy joven para tomar!\n",
      "Muy joven para tomar!\n",
      "Muy joven para tomar!\n",
      "Muy joven para tomar!\n",
      "Muy joven para tomar!\n",
      "Muy joven para tomar!\n",
      "Muy joven para tomar!\n",
      "Muy joven para tomar!\n",
      "Muy joven para tomar!\n",
      "Muy joven para tomar!\n",
      "Muy joven para tomar!\n",
      "Muy joven para tomar!\n",
      "Buno, ahora puedes\n"
     ]
    },
    {
     "data": {
      "text/plain": [
       "18"
      ]
     },
     "execution_count": 67,
     "metadata": {},
     "output_type": "execute_result"
    }
   ],
   "source": [
    "# Tambien podemos mezclar bucles con condicionee\n",
    "age = 0\n",
    "while age < 18:\n",
    "    print('Muy joven para tomar!')\n",
    "    age = age + 1\n",
    "    if age == 18: print('Buno, ahora puedes') # Si la condicion solo es de una linea se puede hacer asi\n",
    "age"
   ]
  },
  {
   "cell_type": "markdown",
   "metadata": {},
   "source": [
    "**Hard Quiz1:** Generen los numeros primos entre $[2,50] \\in \\mathbb{N}$\n",
    "\n",
    "\n",
    "**Hard Quiz2:** Generen los numeros primos entre $[2,n] \\in \\mathbb{N}$"
   ]
  },
  {
   "cell_type": "code",
   "execution_count": 68,
   "metadata": {},
   "outputs": [
    {
     "name": "stdout",
     "output_type": "stream",
     "text": [
      "2\n",
      "3\n",
      "5\n",
      "7\n",
      "11\n",
      "13\n",
      "17\n",
      "19\n",
      "23\n",
      "29\n",
      "31\n",
      "37\n",
      "41\n",
      "43\n",
      "47\n"
     ]
    }
   ],
   "source": [
    "# Solucion\n",
    "for i in range(2,50+1):\n",
    "    isDiv = 0\n",
    "    for j in range(2,i):\n",
    "        if i%j==0: isDiv+=1\n",
    "    if isDiv==0: print(i)"
   ]
  },
  {
   "cell_type": "code",
   "execution_count": 69,
   "metadata": {},
   "outputs": [
    {
     "name": "stdout",
     "output_type": "stream",
     "text": [
      "2\n",
      "3\n",
      "5\n",
      "7\n",
      "11\n",
      "13\n",
      "17\n",
      "19\n",
      "23\n",
      "29\n",
      "31\n",
      "37\n",
      "41\n",
      "43\n",
      "47\n",
      "53\n",
      "59\n",
      "61\n",
      "67\n",
      "71\n",
      "73\n",
      "79\n"
     ]
    }
   ],
   "source": [
    "# Solucion\n",
    "n = 80\n",
    "for i in range(2,n+1):\n",
    "    isDiv = 0\n",
    "    for j in range(2,i):\n",
    "        if i%j==0: isDiv+=1\n",
    "    if isDiv==0: print(i)"
   ]
  },
  {
   "cell_type": "code",
   "execution_count": 70,
   "metadata": {},
   "outputs": [
    {
     "name": "stdout",
     "output_type": "stream",
     "text": [
      "1 loop, best of 3: 1.55 s per loop\n"
     ]
    }
   ],
   "source": [
    "%%timeit\n",
    "n = 8000\n",
    "for i in range(2,n+1):\n",
    "    isDiv = 0\n",
    "    for j in range(2,i):\n",
    "        if i%j == 0: isDiv+=1\n",
    "    #if isDiv==0: print(i)\n",
    "# Una forma sencilla de ver la eficiencia de lo que programamos es mediante las celdas magicas de Jupyter"
   ]
  },
  {
   "cell_type": "code",
   "execution_count": 71,
   "metadata": {
    "scrolled": false
   },
   "outputs": [
    {
     "name": "stdout",
     "output_type": "stream",
     "text": [
      "1 loop, best of 3: 2.02 s per loop\n"
     ]
    }
   ],
   "source": [
    "%%timeit\n",
    "n = 8000\n",
    "for i in range(2,n+1):\n",
    "    isDiv = 0\n",
    "    for j in range(2,i):\n",
    "        isDiv += (i%j==0)\n",
    "    #if isDiv==0: print(i)\n",
    "# Una forma sencilla de ver la eficiencia de lo que programamos es mediante las celdas magicas de Jupyter"
   ]
  },
  {
   "cell_type": "markdown",
   "metadata": {},
   "source": [
    "# Referencias:\n",
    "\n",
    "> http://jupyter.org/documentation\n",
    "\n",
    "> https://en.support.wordpress.com/markdown-quick-reference/\n",
    "\n",
    "> https://www.learnpython.org/\n",
    "\n",
    "> https://realpython.com/learn/python-first-steps/\n"
   ]
  },
  {
   "cell_type": "markdown",
   "metadata": {},
   "source": [
    "# Material adicional:\n",
    "\n",
    "> https://www.sololearn.com/\n",
    "\n",
    "> https://www.programiz.com/python-programming/examples"
   ]
  },
  {
   "cell_type": "code",
   "execution_count": null,
   "metadata": {},
   "outputs": [],
   "source": []
  }
 ],
 "metadata": {
  "kernelspec": {
   "display_name": "Python 2",
   "language": "python",
   "name": "python2"
  },
  "language_info": {
   "codemirror_mode": {
    "name": "ipython",
    "version": 2
   },
   "file_extension": ".py",
   "mimetype": "text/x-python",
   "name": "python",
   "nbconvert_exporter": "python",
   "pygments_lexer": "ipython2",
   "version": "2.7.12"
  }
 },
 "nbformat": 4,
 "nbformat_minor": 2
}
